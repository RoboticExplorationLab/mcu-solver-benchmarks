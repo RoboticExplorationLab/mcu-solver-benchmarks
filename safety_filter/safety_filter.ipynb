{
 "cells": [
  {
   "attachments": {},
   "cell_type": "markdown",
   "metadata": {},
   "source": [
    "# Predictve Safety Filter Benchmark"
   ]
  },
  {
   "attachments": {},
   "cell_type": "markdown",
   "metadata": {},
   "source": [
    "Load necessary packages, make sure to install `tinympc` ([README.md](../README.md))"
   ]
  },
  {
   "cell_type": "code",
   "execution_count": 1,
   "metadata": {},
   "outputs": [
    {
     "name": "stdout",
     "output_type": "stream",
     "text": [
      "/home/sam/Git/tinympc/mcu-solver-benchmarks/safety_filter\n"
     ]
    }
   ],
   "source": [
    "import tinympc\n",
    "import os\n",
    "import numpy as np\n",
    "import subprocess\n",
    "\n",
    "path_to_root = os.getcwd()\n",
    "print(path_to_root)\n",
    "from gen_mpc_problem import osqp_export_data_to_c"
   ]
  },
  {
   "cell_type": "code",
   "execution_count": 2,
   "metadata": {},
   "outputs": [],
   "source": [
    "tinympc_python_dir = path_to_root + \"/../tinympc-python\"\n",
    "tinympc_dir = tinympc_python_dir + \"/tinympc/TinyMPC\"  # Path to the TinyMPC directory (C code)\n",
    "\n",
    "tinympc_generic = tinympc.TinyMPC()\n",
    "tinympc_generic.compile_lib(tinympc_dir)  # Compile the library (or use the binary provided)\n",
    "\n",
    "# Load the generic shared/dynamic library. **You may want to change the extension of the library based on your OS -- Linux: .so, Mac: .dylib, Windows: .dll**\n",
    "os_ext = \".so\"  # CHANGE THIS BASED ON YOUR OS\n",
    "lib_dir = tinympc_dir + \"/build/src/tinympc/libtinympcShared\" + os_ext  # Path to the compiled library\n",
    "tinympc_generic.load_lib(lib_dir)  # Load the library"
   ]
  },
  {
   "attachments": {},
   "cell_type": "markdown",
   "metadata": {},
   "source": [
    "## Double Integrator System"
   ]
  },
  {
   "cell_type": "code",
   "execution_count": 35,
   "metadata": {},
   "outputs": [],
   "source": [
    "NSTATES = 10  # may vary this\n",
    "NINPUTS = NSTATES//2\n",
    "NHORIZON = 20  # may vary this\n",
    "NTOTAL = 201\n",
    "NPOS = NINPUTS\n",
    "\n",
    "# Double-integrator dynamics\n",
    "h = 0.05 #20 Hz\n",
    "temp_n = int(NSTATES/2)\n",
    "A = np.block([[np.eye(temp_n), h*np.eye(temp_n)], [np.zeros((temp_n,temp_n)), np.eye(temp_n)]])\n",
    "B = np.block([[0.5*h*h*np.eye(temp_n)], [h*np.eye(temp_n)]])\n",
    "\n",
    "Q = 0.0*np.eye(NSTATES)\n",
    "R = 1e2*np.eye(NINPUTS)\n",
    "\n",
    "rho = 1e2 # may want different value for each solver\n",
    "xmax = 1.5 # doesn't matter, will change in C\n",
    "xmin = -1.5 # doesn't matter, will change in C\n",
    "umax = 2.0 # doesn't matter, will change in C\n",
    "umin = -2.0 # doesn't matter, will change in C\n",
    "\n",
    "abs_pri_tol = 1.0e-2    # absolute primal tolerance\n",
    "abs_dual_tol = 1.0e-2   # absolute dual tolerance\n",
    "max_iter = 500          # maximum number of iterations\n",
    "check_termination = 1   # whether to check termination and period"
   ]
  },
  {
   "attachments": {},
   "cell_type": "markdown",
   "metadata": {},
   "source": [
    "## Code Generation"
   ]
  },
  {
   "attachments": {},
   "cell_type": "markdown",
   "metadata": {},
   "source": [
    "### TinyMPC"
   ]
  },
  {
   "cell_type": "code",
   "execution_count": 33,
   "metadata": {},
   "outputs": [
    {
     "name": "stdout",
     "output_type": "stream",
     "text": [
      "A = [   1,    0,    0,    0,    0, 0.05,    0,    0,    0,    0]\n",
      "[   0,    1,    0,    0,    0,    0, 0.05,    0,    0,    0]\n",
      "[   0,    0,    1,    0,    0,    0,    0, 0.05,    0,    0]\n",
      "[   0,    0,    0,    1,    0,    0,    0,    0, 0.05,    0]\n",
      "[   0,    0,    0,    0,    1,    0,    0,    0,    0, 0.05]\n",
      "[   0,    0,    0,    0,    0,    1,    0,    0,    0,    0]\n",
      "[   0,    0,    0,    0,    0,    0,    1,    0,    0,    0]\n",
      "[   0,    0,    0,    0,    0,    0,    0,    1,    0,    0]\n",
      "[   0,    0,    0,    0,    0,    0,    0,    0,    1,    0]\n",
      "[   0,    0,    0,    0,    0,    0,    0,    0,    0,    1]\n",
      "B = [0.00125,       0,       0,       0,       0]\n",
      "[      0, 0.00125,       0,       0,       0]\n",
      "[      0,       0, 0.00125,       0,       0]\n",
      "[      0,       0,       0, 0.00125,       0]\n",
      "[      0,       0,       0,       0, 0.00125]\n",
      "[   0.05,       0,       0,       0,       0]\n",
      "[      0,    0.05,       0,       0,       0]\n",
      "[      0,       0,    0.05,       0,       0]\n",
      "[      0,       0,       0,    0.05,       0]\n",
      "[      0,       0,       0,       0,    0.05]\n",
      "Q = [100,   0,   0,   0,   0,   0,   0,   0,   0,   0]\n",
      "[  0, 100,   0,   0,   0,   0,   0,   0,   0,   0]\n",
      "[  0,   0, 100,   0,   0,   0,   0,   0,   0,   0]\n",
      "[  0,   0,   0, 100,   0,   0,   0,   0,   0,   0]\n",
      "[  0,   0,   0,   0, 100,   0,   0,   0,   0,   0]\n",
      "[  0,   0,   0,   0,   0, 100,   0,   0,   0,   0]\n",
      "[  0,   0,   0,   0,   0,   0, 100,   0,   0,   0]\n",
      "[  0,   0,   0,   0,   0,   0,   0, 100,   0,   0]\n",
      "[  0,   0,   0,   0,   0,   0,   0,   0, 100,   0]\n",
      "[  0,   0,   0,   0,   0,   0,   0,   0,   0, 100]\n",
      "R = [200,   0,   0,   0,   0]\n",
      "[  0, 200,   0,   0,   0]\n",
      "[  0,   0, 200,   0,   0]\n",
      "[  0,   0,   0, 200,   0]\n",
      "[  0,   0,   0,   0, 200]\n",
      "rho = 100\n",
      "Kinf converged after 155 iterations\n",
      "Precomputing finished\n",
      "Kinf = [0.683,     0,     0,     0,     0, 1.354,     0,     0,     0,     0]\n",
      "[    0, 0.683,     0,     0,     0,     0, 1.354,     0,     0,     0]\n",
      "[    0,     0, 0.683,     0,     0,     0,     0, 1.354,     0,     0]\n",
      "[    0,     0,     0, 0.683,     0,     0,     0,     0, 1.354,     0]\n",
      "[    0,     0,     0,     0, 0.683,     0,     0,     0,     0, 1.354]\n",
      "Pinf = [3964,    0,    0,    0,    0, 2829,    0,    0,    0,    0]\n",
      "[   0, 3964,    0,    0,    0,    0, 2829,    0,    0,    0]\n",
      "[   0,    0, 3964,    0,    0,    0,    0, 2829,    0,    0]\n",
      "[   0,    0,    0, 3964,    0,    0,    0,    0, 2829,    0]\n",
      "[   0,    0,    0,    0, 3964,    0,    0,    0,    0, 2829]\n",
      "[2829,    0,    0,    0,    0, 5585,    0,    0,    0,    0]\n",
      "[   0, 2829,    0,    0,    0,    0, 5585,    0,    0,    0]\n",
      "[   0,    0, 2829,    0,    0,    0,    0, 5585,    0,    0]\n",
      "[   0,    0,    0, 2829,    0,    0,    0,    0, 5585,    0]\n",
      "[   0,    0,    0,    0, 2829,    0,    0,    0,    0, 5585]\n",
      "Quu_inv = [0.004666,        0,        0,        0,        0]\n",
      "[       0, 0.004666,        0,        0,        0]\n",
      "[       0,        0, 0.004666,        0,        0]\n",
      "[       0,        0,        0, 0.004666,        0]\n",
      "[       0,        0,        0,        0, 0.004666]\n",
      "AmBKt = [  0.9991,        0,        0,        0,        0, -0.03415,        0,        0,        0,        0]\n",
      "[       0,   0.9991,        0,        0,        0,        0, -0.03415,        0,        0,        0]\n",
      "[       0,        0,   0.9991,        0,        0,        0,        0, -0.03415,        0,        0]\n",
      "[       0,        0,        0,   0.9991,        0,        0,        0,        0, -0.03415,        0]\n",
      "[       0,        0,        0,        0,   0.9991,        0,        0,        0,        0, -0.03415]\n",
      "[ 0.04831,        0,        0,        0,        0,   0.9323,        0,        0,        0,        0]\n",
      "[       0,  0.04831,        0,        0,        0,        0,   0.9323,        0,        0,        0]\n",
      "[       0,        0,  0.04831,        0,        0,        0,        0,   0.9323,        0,        0]\n",
      "[       0,        0,        0,  0.04831,        0,        0,        0,        0,   0.9323,        0]\n",
      "[       0,        0,        0,        0,  0.04831,        0,        0,        0,        0,   0.9323]\n",
      "Data generated in /home/khai/SSD/Code/mcu-solver-benchmarks/safety_filter/tinympc_generated/src/tiny_data_workspace.cpp\n",
      "Global options generated in /home/khai/SSD/Code/mcu-solver-benchmarks/safety_filter/tinympc_generated/tinympc/glob_opts.hpp\n",
      "Example tinympc main generated in /home/khai/SSD/Code/mcu-solver-benchmarks/safety_filter/tinympc_generated/src/tiny_main.cpp\n",
      "Data header generated in /home/khai/SSD/Code/mcu-solver-benchmarks/safety_filter/tinympc_generated/tinympc/tiny_data_workspace.hpp\n",
      "Content of include folder copied from /home/khai/SSD/Code/mcu-solver-benchmarks/safety_filter/../tinympc-python/tinympc/TinyMPC/include to /home/khai/SSD/Code/mcu-solver-benchmarks/safety_filter/tinympc_generated/include\n",
      "Content of /home/khai/SSD/Code/mcu-solver-benchmarks/safety_filter/../tinympc-python/tinympc/TinyMPC/src/tinympc/admm.hpp copied to /home/khai/SSD/Code/mcu-solver-benchmarks/safety_filter/tinympc_generated/tinympc/admm.hpp\n",
      "Content of /home/khai/SSD/Code/mcu-solver-benchmarks/safety_filter/../tinympc-python/tinympc/TinyMPC/src/tinympc/admm.cpp copied to /home/khai/SSD/Code/mcu-solver-benchmarks/safety_filter/tinympc_generated/tinympc/admm.cpp\n",
      "Content of /home/khai/SSD/Code/mcu-solver-benchmarks/safety_filter/../tinympc-python/tinympc/TinyMPC/src/tinympc/types.hpp copied to /home/khai/SSD/Code/mcu-solver-benchmarks/safety_filter/tinympc_generated/tinympc/types.hpp\n",
      "Content of /home/khai/SSD/Code/mcu-solver-benchmarks/safety_filter/../tinympc-python/tinympc/TinyMPC/src/tinympc/tiny_wrapper.hpp copied to /home/khai/SSD/Code/mcu-solver-benchmarks/safety_filter/tinympc_generated/tinympc/tiny_wrapper.hpp\n",
      "Content of /home/khai/SSD/Code/mcu-solver-benchmarks/safety_filter/../tinympc-python/tinympc/TinyMPC/src/tinympc/tiny_wrapper.cpp copied to /home/khai/SSD/Code/mcu-solver-benchmarks/safety_filter/tinympc_generated/tinympc/tiny_wrapper.cpp\n"
     ]
    },
    {
     "data": {
      "text/plain": [
       "0"
      ]
     },
     "execution_count": 33,
     "metadata": {},
     "output_type": "execute_result"
    }
   ],
   "source": [
    "# SET UP PROBLEM\n",
    "A1 = A.transpose().reshape((NSTATES * NSTATES)).tolist() # col-major order list\n",
    "B1 = B.transpose().reshape((NSTATES * NINPUTS)).tolist() # col-major order list\n",
    "Q1 = Q.diagonal().tolist()  # diagonal of state cost -- DON'T NEED FOR SAFETY FILTER\n",
    "R1 = R.diagonal().tolist()  # diagonal of input cost\n",
    "\n",
    "xmin1 = [xmin] * NSTATES * NHORIZON           # state constraints \n",
    "xmax1 = [xmax] * NSTATES * NHORIZON             # state constraints\n",
    "umin1 = [umin] * NINPUTS * (NHORIZON - 1)      # input constraints\n",
    "umax1 = [umax] * NINPUTS * (NHORIZON - 1)   # input constraints\n",
    "\n",
    "tinympc_prob = tinympc.TinyMPC()\n",
    "tinympc_prob.load_lib(lib_dir)  # Load the library\n",
    "tinympc_prob.setup(NSTATES, NINPUTS, NHORIZON, A1, B1, Q1, R1, xmin1, xmax1, umin1, umax1, rho, abs_pri_tol, abs_dual_tol, max_iter, check_termination)\n",
    "\n",
    "# GENERATE CODE\n",
    "output_dir = path_to_root + \"/tinympc_generated\"  # Path to the generated code\n",
    "tinympc_prob.tiny_codegen(tinympc_dir, output_dir)  \n",
    "# You may want to check if Kinf in generated_code follows the same pattern as previous K in LQR, otherwise something is wrong\n",
    "\n",
    "# MOVING FILES FROM GENERATED CODE TO MCU FOLDER\n",
    "path_to_prob_dir = path_to_root + \"/tinympc_generated\"  # Path to the generated code\n",
    "mcu_dir = path_to_root + '/tinympc_teensy'\n",
    "os.system('cp -R '+path_to_prob_dir+'/src/tiny_data_workspace.cpp'+' '+mcu_dir+'/src/tiny_data_workspace.cpp')\n",
    "os.system('cp -R '+path_to_prob_dir+'/tinympc/glob_opts.hpp'+' '+mcu_dir+'/lib/tinympc/glob_opts.hpp')"
   ]
  },
  {
   "attachments": {},
   "cell_type": "markdown",
   "metadata": {},
   "source": [
    "Now you can directly upload and run program in `tinympc_teensy`"
   ]
  },
  {
   "attachments": {},
   "cell_type": "markdown",
   "metadata": {},
   "source": [
    "### OSQP"
   ]
  },
  {
   "cell_type": "code",
   "execution_count": 36,
   "metadata": {},
   "outputs": [
    {
     "name": "stdout",
     "output_type": "stream",
     "text": [
      "-----------------------------------------------------------------\n",
      "           OSQP v1.0.0.beta0  -  Operator Splitting QP Solver\n",
      "              (c) Bartolomeo Stellato,  Goran Banjac\n",
      "        University of Oxford  -  Stanford University 2021\n",
      "-----------------------------------------------------------------\n",
      "problem:  variables n = 295, constraints m = 495\n",
      "          nnz(P) + nnz(A) = 1065\n",
      "settings: algebra = Built-in,\n",
      "          linear system solver = QDLDL v0.1.6,\n",
      "          eps_abs = 1.0e-02, eps_rel = 1.0e-02,\n",
      "          eps_prim_inf = 1.0e-04, eps_dual_inf = 1.0e-04,\n",
      "          rho = 1.00e+02 ,\n",
      "          sigma = 1.00e-06, alpha = 1.00, max_iter = 500\n",
      "          check_termination: on (interval 1),\n",
      "          time_limit: 1.00e+10 sec,\n",
      "          scaling: off, scaled_termination: off\n",
      "          warm starting: on, polishing: off, \n",
      "generated: osqp_problem.h\n"
     ]
    }
   ],
   "source": [
    "import osqp\n",
    "from scipy import sparse\n",
    "\n",
    "# SET UP PROBLEM\n",
    "A2 = sparse.csc_matrix(A)\n",
    "B2 = sparse.csc_matrix(B)\n",
    "\n",
    "x0 = np.ones(NSTATES)*0.5  # doesn't matter, will change in C\n",
    "\n",
    "Xref = np.zeros((NSTATES, NTOTAL)) \n",
    "for k in range(NTOTAL):\n",
    "    Xref[0:NPOS,k] = np.sin(1*k)*2*np.ones(temp_n)\n",
    "Uref = np.ones((NINPUTS, NTOTAL-1))*1  # doesn't matter, will change in C\n",
    "\n",
    "Q2 = Q\n",
    "R2 = R\n",
    "\n",
    "# Cast MPC problem to a QP: x = (x(0),x(1),...,x(N),u(0),...,u(N-1))\n",
    "# - quadratic objective\n",
    "P = sparse.block_diag([sparse.kron(sparse.eye(NHORIZON), Q2),\n",
    "                       sparse.kron(sparse.eye(NHORIZON-1), R2)], format='csc')\n",
    "# - linear objective\n",
    "q = np.hstack([np.zeros((NHORIZON)*NSTATES), np.hstack([-R2@Uref[:,i] for i in range(NHORIZON-1)])])\n",
    "# - linear dynamics\n",
    "Ax = sparse.kron(sparse.eye(NHORIZON),-sparse.eye(NSTATES)) + sparse.kron(sparse.eye(NHORIZON, k=-1), A2)\n",
    "Bu = sparse.kron(sparse.vstack([sparse.csc_matrix((1, NHORIZON-1)), sparse.eye(NHORIZON-1)]), B2)\n",
    "Aeq = sparse.hstack([Ax, Bu])\n",
    "leq = np.hstack([-x0, np.zeros((NHORIZON-1)*NSTATES)])\n",
    "ueq = leq\n",
    "\n",
    "# - input and state constraints # doesn't matter, will change in C\n",
    "xmin2 = np.ones(NSTATES)*xmin\n",
    "xmax2 = np.ones(NSTATES)*xmax\n",
    "umin2 = np.ones(NINPUTS)*umin\n",
    "umax2 = np.ones(NINPUTS)*umax\n",
    "Aineq = sparse.eye((NHORIZON)*NSTATES + (NHORIZON-1)*NINPUTS)\n",
    "lineq = np.hstack([np.kron(np.ones(NHORIZON), xmin2), np.kron(np.ones(NHORIZON-1), umin2)])\n",
    "uineq = np.hstack([np.kron(np.ones(NHORIZON), xmax2), np.kron(np.ones(NHORIZON-1), umax2)])\n",
    "# - OSQP constraints\n",
    "AA = sparse.vstack([Aeq, Aineq], format='csc')\n",
    "l = np.hstack([leq, lineq])\n",
    "u = np.hstack([ueq, uineq])\n",
    "\n",
    "# Create an OSQP object\n",
    "osqp_prob = osqp.OSQP()\n",
    "\n",
    "# Setup workspace and change alpha parameter\n",
    "osqp_prob.setup(P, q, AA, l, u, alpha=1.0, scaling=0, check_termination=check_termination, eps_abs=abs_pri_tol, eps_rel=abs_pri_tol, eps_prim_inf=1e-4, eps_dual_inf=1e-4, max_iter=max_iter, polish=False, rho=rho, adaptive_rho=False, warm_start=True)\n",
    "\n",
    "# res = osqp_prob.solve()\n",
    "# x = res.x[0:NSTATES*NHORIZON]\n",
    "# u = res.x[NSTATES*NHORIZON:]\n",
    "# print(x)\n",
    "# print(u)\n",
    "\n",
    "# GENERATE CODE\n",
    "osqp_prob.codegen(\n",
    "    path_to_root+'/osqp_generated',   # Output folder for auto-generated code\n",
    "    prefix='osqp_data_',         # Prefix for filenames and C variables; useful if generating multiple problems\n",
    "    force_rewrite=True,        # Force rewrite if output folder exists?\n",
    "    parameters='vectors',      # What do we wish to update in the generated code?\n",
    "                                # One of 'vectors' (allowing update of q/l/u through prob.update_data_vec)\n",
    "                                # or 'matrices' (allowing update of P/A/q/l/u\n",
    "                                # through prob.update_data_vec or prob.update_data_mat)\n",
    "    use_float=True,\n",
    "    printing_enable=False,     # Enable solver printing?\n",
    "    profiling_enable=False,    # Enable solver profiling?\n",
    "    interrupt_enable=False,    # Enable user interrupt (Ctrl-C)?\n",
    "    include_codegen_src=True,  # Include headers/sources/Makefile in the output folder,\n",
    "                                # creating a self-contained compilable folder?\n",
    "    extension_name='pyosqp',   # Name of the generated python extension; generates a setup.py; Set None to skip\n",
    "    compile=False,             # Compile the above python extension into an importable module\n",
    "                                # (allowing \"import pyosqp\")?\n",
    ")\n",
    "\n",
    "# MOVING FILES FROM GENERATED CODE TO MCU FOLDER\n",
    "path_to_prob_dir = path_to_root + \"/osqp_generated\"  # Path to the generated code\n",
    "mcu_dir = path_to_root + '/osqp_teensy'\n",
    "os.system('cp -R '+path_to_prob_dir+'/osqp_configure.h'+' '+mcu_dir+'/lib/osqp/inc/osqp_configure.h')\n",
    "os.system('cp -R '+path_to_prob_dir+'/osqp_data_workspace.c'+' '+mcu_dir+'/src/osqp_data_workspace.c')\n",
    "\n",
    "osqp_export_data_to_c(A, B, R, NSTATES, NINPUTS, NHORIZON, NTOTAL)\n",
    "print('generated: osqp_problem.h')"
   ]
  },
  {
   "attachments": {},
   "cell_type": "markdown",
   "metadata": {},
   "source": [
    "Now you can directly upload and run program in `osqp_teensy`"
   ]
  }
 ],
 "metadata": {
  "kernelspec": {
   "display_name": "tinympc",
   "language": "python",
   "name": "python3"
  },
  "language_info": {
   "codemirror_mode": {
    "name": "ipython",
    "version": 3
   },
   "file_extension": ".py",
   "mimetype": "text/x-python",
   "name": "python",
   "nbconvert_exporter": "python",
   "pygments_lexer": "ipython3",
   "version": "3.10.12"
  },
  "orig_nbformat": 4
 },
 "nbformat": 4,
 "nbformat_minor": 2
}
